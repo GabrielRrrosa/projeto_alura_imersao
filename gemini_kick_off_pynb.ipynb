{
  "nbformat": 4,
  "nbformat_minor": 0,
  "metadata": {
    "colab": {
      "provenance": [],
      "authorship_tag": "ABX9TyMI9cqUJgNFliWGaeXFdwGd",
      "include_colab_link": true
    },
    "kernelspec": {
      "name": "python3",
      "display_name": "Python 3"
    },
    "language_info": {
      "name": "python"
    }
  },
  "cells": [
    {
      "cell_type": "markdown",
      "metadata": {
        "id": "view-in-github",
        "colab_type": "text"
      },
      "source": [
        "<a href=\"https://colab.research.google.com/github/GabrielRrrosa/projeto_alura_imersao/blob/main/gemini_kick_off_pynb.ipynb\" target=\"_parent\"><img src=\"https://colab.research.google.com/assets/colab-badge.svg\" alt=\"Open In Colab\"/></a>"
      ]
    },
    {
      "cell_type": "code",
      "execution_count": null,
      "metadata": {
        "id": "KUlAGJJJFMpT"
      },
      "outputs": [],
      "source": [
        "!pip install -q -U google-generativeai\n",
        "import google.generativeai as genai\n",
        "from google.colab import userdata\n",
        "api_key = userdata.get('SECRET_KEY')\n",
        "genai.configure(api_key=api_key)"
      ]
    },
    {
      "cell_type": "code",
      "source": [
        "generation_config = {\n",
        "\t\"candidate_count\": 1,\n",
        "\t\"temperature\": 1,\n",
        "}\n",
        "\n",
        "safety_settings = {\n",
        "  'HATE': 'BLOCK_NONE',\n",
        "  'HARASSMENT': 'BLOCK_NONE',\n",
        "  'SEXUAL' : 'BLOCK_LOW_AND_ABOVE',\n",
        "  'DANGEROUS' : 'BLOCK_NONE'\n",
        "}\n",
        "\n",
        "model = genai.GenerativeModel(model_name=\"gemini-1.0-pro\",\n",
        "                              generation_config = generation_config,\n",
        "                              safety_settings = safety_settings)"
      ],
      "metadata": {
        "id": "GOJPsTSjFlyM"
      },
      "execution_count": null,
      "outputs": []
    },
    {
      "cell_type": "code",
      "source": [
        "intro = model.generate_content(\"Você é um assistente especialista em inteligência artificial. Gere uma introdução simples, saudando o usuário de forma educada. Inicie a resposta com o título 'Boas vindas ao Gemini Kick Off'. Use emojis relacionados à resposta\")\n",
        "\n",
        "tutorial = model.generate_content(\"Você é um assistente especialista em inteligência artificial. Indique para o usuário fazer uma pergunta na caixa de pesquisa no final da página. Use emojis relacionados à resposta\")\n",
        "\n",
        "dica = model.generate_content(\"Você é um assistente especialista em inteligência artificial. Entregue respostas que sejam objetivas para pessoas começarem a usar a inteligencia artificial para agilizar tarefas diárias. Sempre dê dicas de bom uso e boas práticas. Use emojis relacionados à resposta\")\n",
        "\n",
        "chat = model.start_chat(history=[])\n",
        "\n",
        "print(intro.text + \"\\n \\n\", \"#Tutorial: \" + \"\\n \\n\" + tutorial.text + \"\\n \\n\",  \"#Dica: \" + \"\\n \\n\" + dica.text + \"\\n\" )\n",
        "\n",
        "prompt = input(\"Comece por aqui. Peça algo ao Gemini :)\" + \"\\n\")\n",
        "\n",
        "while prompt != \"sair\" :\n",
        "  response = chat.send_message(prompt)\n",
        "  print(\"Resultado: \", response.text, \"\\n\")\n",
        "  prompt = input(\"Faça mais perguntas ou execute comandos: (Digite 'sair' para fechar o app)\" + \"\\n\")\n",
        "\n",
        "print(\"Até a próxima 😁\")\n",
        "\n",
        "\n"
      ],
      "metadata": {
        "id": "7ZFG8tAmFr7c"
      },
      "execution_count": null,
      "outputs": []
    }
  ]
}