{
  "nbformat": 4,
  "nbformat_minor": 0,
  "metadata": {
    "colab": {
      "provenance": [],
      "authorship_tag": "ABX9TyMI9cqUJgNFliWGaeXFdwGd",
      "include_colab_link": true
    },
    "kernelspec": {
      "name": "python3",
      "display_name": "Python 3"
    },
    "language_info": {
      "name": "python"
    }
  },
  "cells": [
    {
      "cell_type": "markdown",
      "metadata": {
        "id": "view-in-github",
        "colab_type": "text"
      },
      "source": [
        "<a href=\"https://colab.research.google.com/github/GabrielRrrosa/projeto_alura_imersao/blob/main/gemini_kick_off_pynb.ipynb\" target=\"_parent\"><img src=\"https://colab.research.google.com/assets/colab-badge.svg\" alt=\"Open In Colab\"/></a>"
      ]
    },
    {
      "cell_type": "code",
      "execution_count": 31,
      "metadata": {
        "id": "KUlAGJJJFMpT"
      },
      "outputs": [],
      "source": [
        "!pip install -q -U google-generativeai\n",
        "import google.generativeai as genai\n",
        "from google.colab import userdata\n",
        "api_key = userdata.get('SECRET_KEY')\n",
        "genai.configure(api_key=api_key)"
      ]
    },
    {
      "cell_type": "code",
      "source": [
        "generation_config = {\n",
        "\t\"candidate_count\": 1,\n",
        "\t\"temperature\": 1,\n",
        "}\n",
        "\n",
        "safety_settings = {\n",
        "  'HATE': 'BLOCK_NONE',\n",
        "  'HARASSMENT': 'BLOCK_NONE',\n",
        "  'SEXUAL' : 'BLOCK_LOW_AND_ABOVE',\n",
        "  'DANGEROUS' : 'BLOCK_NONE'\n",
        "}\n",
        "\n",
        "model = genai.GenerativeModel(model_name=\"gemini-1.0-pro\",\n",
        "                              generation_config = generation_config,\n",
        "                              safety_settings = safety_settings)"
      ],
      "metadata": {
        "id": "GOJPsTSjFlyM"
      },
      "execution_count": 32,
      "outputs": []
    },
    {
      "cell_type": "code",
      "source": [
        "intro = model.generate_content(\"Você é um assistente especialista em inteligência artificial. Gere uma introdução simples, saudando o usuário de forma educada. Inicie a resposta com o título 'Boas vindas ao Gemini Kick Off'. Use emojis relacionados à resposta\")\n",
        "\n",
        "tutorial = model.generate_content(\"Você é um assistente especialista em inteligência artificial. Indique para o usuário fazer uma pergunta na caixa de pesquisa no final da página. Use emojis relacionados à resposta\")\n",
        "\n",
        "dica = model.generate_content(\"Você é um assistente especialista em inteligência artificial. Entregue respostas que sejam objetivas para pessoas começarem a usar a inteligencia artificial para agilizar tarefas diárias. Sempre dê dicas de bom uso e boas práticas. Use emojis relacionados à resposta\")\n",
        "\n",
        "chat = model.start_chat(history=[])\n",
        "\n",
        "print(intro.text + \"\\n \\n\", \"#Tutorial: \" + \"\\n \\n\" + tutorial.text + \"\\n \\n\",  \"#Dica: \" + \"\\n \\n\" + dica.text + \"\\n\" )\n",
        "\n",
        "prompt = input(\"Comece por aqui. Peça algo ao Gemini :)\" + \"\\n\")\n",
        "\n",
        "while prompt != \"sair\" :\n",
        "  response = chat.send_message(prompt)\n",
        "  print(\"Resultado: \", response.text, \"\\n\")\n",
        "  prompt = input(\"Faça mais perguntas ou execute comandos: (Digite 'sair' para fechar o app)\" + \"\\n\")\n",
        "\n",
        "print(\"Até a próxima 😁\")\n",
        "\n",
        "\n"
      ],
      "metadata": {
        "colab": {
          "base_uri": "https://localhost:8080/",
          "height": 920
        },
        "id": "7ZFG8tAmFr7c",
        "outputId": "9af6b958-a2ac-4a6d-90f1-e202cc4148bd"
      },
      "execution_count": 33,
      "outputs": [
        {
          "output_type": "stream",
          "name": "stdout",
          "text": [
            "Boas-vindas ao Gemini Kick Off 🌟🚀\n",
            "\n",
            "Sou Gemini, seu assistente especialista em IA. Estou aqui para ajudá-lo a navegar pelo nosso evento incrível e fornecer as informações essenciais que você precisa para aproveitar ao máximo sua experiência.\n",
            " \n",
            " #Tutorial: \n",
            " \n",
            "**Sou um assistente virtual com conhecimento em IA.** ❓\n",
            "Para obter informações, digite sua pergunta na caixa de pesquisa abaixo 👇\n",
            " \n",
            " #Dica: \n",
            " \n",
            "**Introdução à Inteligência Artificial (IA) para Otimização de Tarefas Diárias**\n",
            "\n",
            "A IA tornou-se uma ferramenta poderosa para simplificar nossas vidas e otimizar tarefas diárias. Aqui estão algumas dicas para começar:\n",
            "\n",
            "**1. Identifique Tarefas Repetitivas e Demoradas**\n",
            "\n",
            "* 🔭 Localize tarefas que você realiza repetidamente e consomem muito tempo.\n",
            "* **Dica:** Organize as tarefas em ordem de urgência e importância.\n",
            "\n",
            "**2. Escolha Ferramentas de IA Adequadas**\n",
            "\n",
            "* 📱 Existem várias ferramentas de IA disponíveis, incluindo assistentes virtuais, chatbots e processadores de linguagem natural (PNLs).\n",
            "* **Dica:** Pesquise e compare diferentes ferramentas para encontrar as que melhor atendem às suas necessidades.\n",
            "\n",
            "**3. Automatize Tarefas**\n",
            "\n",
            "* 🤖 Use as ferramentas de IA para automatizar tarefas como responder a e-mails, agendar compromissos e organizar finanças.\n",
            "* **Dica:** Configure fluxos de trabalho automatizados para reduzir a necessidade de intervenção manual.\n",
            "\n",
            "**4. Delegue Para Chatbots**\n",
            "\n",
            "* 💬 Chatbots podem responder a perguntas frequentes, fornecer suporte ao cliente e agendar solicitações.\n",
            "* **Dica:** Forneça ao chatbot dados de treinamento abrangentes para garantir respostas precisas e eficientes.\n",
            "\n",
            "**5. Use PNL para Compreensão da Linguagem**\n",
            "\n",
            "* 🗣️ PNL permite que as ferramentas de IA entendam e processem a linguagem humana.\n",
            "* **Dica:** Use PNL para criar bots de bate-papo personalizados e melhorar os recursos de busca e resumo.\n",
            "\n",
            "**Boas Práticas e Considerações**\n",
            "\n",
            "* **Privacidade:** Esteja ciente das implicações de privacidade ao compartilhar dados com ferramentas de IA.\n",
            "* **Precisão:** Verifique a precisão das informações geradas por IA sempre que possível.\n",
            "* **Ética:** Use a IA de forma responsável e considere seus impactos éticos e sociais.\n",
            "* **Adaptabilidade:** A IA está em constante evolução. Fique atualizado sobre as novas funcionalidades e melhores práticas.\n",
            "\n",
            "Começar a usar a IA para otimizar tarefas diárias pode economizar tempo, reduzir o estresse e melhorar a produtividade. Siga estas dicas e aproveite os benefícios da IA para uma vida mais eficiente e conveniente! 🚀💻\n",
            "\n",
            "Comece por aqui. Peça algo ao Gemini :)\n",
            "sair\n",
            "Até a próxima 😁\n"
          ]
        }
      ]
    }
  ]
}